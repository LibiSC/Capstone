{
 "cells": [
  {
   "cell_type": "code",
   "execution_count": 7,
   "metadata": {},
   "outputs": [
    {
     "data": {
      "text/html": [
       "<script>\n",
       "code_show=true; \n",
       "function code_toggle() {\n",
       " if (code_show){\n",
       " $('div.input').hide();\n",
       " } else {\n",
       " $('div.input').show();\n",
       " }\n",
       " code_show = !code_show\n",
       "} \n",
       "$( document ).ready(code_toggle);\n",
       "</script>\n",
       "<form action=\"javascript:code_toggle()\"><input type=\"submit\" value=\"Click here to toggle on/off the raw code.\"></form>"
      ],
      "text/plain": [
       "<IPython.core.display.HTML object>"
      ]
     },
     "execution_count": 7,
     "metadata": {},
     "output_type": "execute_result"
    }
   ],
   "source": [
    "from IPython.display import HTML\n",
    "\n",
    "HTML('''<script>\n",
    "code_show=true; \n",
    "function code_toggle() {\n",
    " if (code_show){\n",
    " $('div.input').hide();\n",
    " } else {\n",
    " $('div.input').show();\n",
    " }\n",
    " code_show = !code_show\n",
    "} \n",
    "$( document ).ready(code_toggle);\n",
    "</script>\n",
    "<form action=\"javascript:code_toggle()\"><input type=\"submit\" value=\"Click here to toggle on/off the raw code.\"></form>''')"
   ]
  },
  {
   "cell_type": "markdown",
   "metadata": {},
   "source": [
    "## 1. Introduction\n",
    "\n",
    "### 1.1 Background\n",
    "Lima is Peru's capital city. The metropolitan area has 43 districts (50 counting Callao Constitutional Province) and it has over 9 million habitants. Over 40% of Peru's urban population lives in Lima and this number grows every year at 1.2%.\n",
    "This amount of people require different services as the one of this analysis, restaurants and foods. The restaurants and foods business category has grown every month for the past 23 months, 3.93% in the last year, so it's a good choice for Lima citizens to start a business.\n",
    "The objective of this data science project is to determine between 3 districts (San Isidro, Barranco and Miraflores) which is best to start a restaurant/food business. These districts were chose as are considered by Lima middle class as the top 3 destinations for entertainment and office location."
   ]
  },
  {
   "cell_type": "markdown",
   "metadata": {},
   "source": [
    "### 1.2 Data\n",
    "The data used in this project is the following:\n",
    " - 100 food venues in 1 km radius for each district (Miraflores, San Isidro and Barranco).\n",
    " - Rating, price tier and quantity of likes for each venue.\n",
    "\n",
    "All this data was obtained through Foursquare API. And example of the final data is the following:"
   ]
  },
  {
   "cell_type": "code",
   "execution_count": 5,
   "metadata": {
    "hide_input": true
   },
   "outputs": [
    {
     "data": {
      "text/html": [
       "<div>\n",
       "<style scoped>\n",
       "    .dataframe tbody tr th:only-of-type {\n",
       "        vertical-align: middle;\n",
       "    }\n",
       "\n",
       "    .dataframe tbody tr th {\n",
       "        vertical-align: top;\n",
       "    }\n",
       "\n",
       "    .dataframe thead th {\n",
       "        text-align: right;\n",
       "    }\n",
       "</style>\n",
       "<table border=\"1\" class=\"dataframe\">\n",
       "  <thead>\n",
       "    <tr style=\"text-align: right;\">\n",
       "      <th></th>\n",
       "      <th>id</th>\n",
       "      <th>Venue</th>\n",
       "      <th>Venue Latitude</th>\n",
       "      <th>Venue Longitude</th>\n",
       "      <th>Venue Category</th>\n",
       "      <th>Distrito</th>\n",
       "      <th>pricetier</th>\n",
       "      <th>rating</th>\n",
       "      <th>likes</th>\n",
       "    </tr>\n",
       "  </thead>\n",
       "  <tbody>\n",
       "    <tr>\n",
       "      <th>0</th>\n",
       "      <td>4cc2f8474fcfbfb763bbbd24</td>\n",
       "      <td>Lima 27</td>\n",
       "      <td>-12.096252</td>\n",
       "      <td>-77.035084</td>\n",
       "      <td>Peruvian</td>\n",
       "      <td>San Isidro</td>\n",
       "      <td>2</td>\n",
       "      <td>8.7</td>\n",
       "      <td>359</td>\n",
       "    </tr>\n",
       "    <tr>\n",
       "      <th>1</th>\n",
       "      <td>56d88b07498effe63b0b746e</td>\n",
       "      <td>Primos Chicken Lovers Bar</td>\n",
       "      <td>-12.098140</td>\n",
       "      <td>-77.036146</td>\n",
       "      <td>Restaurant</td>\n",
       "      <td>San Isidro</td>\n",
       "      <td>2</td>\n",
       "      <td>8.6</td>\n",
       "      <td>140</td>\n",
       "    </tr>\n",
       "    <tr>\n",
       "      <th>2</th>\n",
       "      <td>52fbaf6b498eb8a688516643</td>\n",
       "      <td>Astrid y Gastón</td>\n",
       "      <td>-12.096591</td>\n",
       "      <td>-77.034695</td>\n",
       "      <td>Peruvian</td>\n",
       "      <td>San Isidro</td>\n",
       "      <td>3</td>\n",
       "      <td>8.6</td>\n",
       "      <td>526</td>\n",
       "    </tr>\n",
       "    <tr>\n",
       "      <th>3</th>\n",
       "      <td>4f15ff95e5e8f419abbd0465</td>\n",
       "      <td>Le Café</td>\n",
       "      <td>-12.097256</td>\n",
       "      <td>-77.037704</td>\n",
       "      <td>Peruvian</td>\n",
       "      <td>Lima</td>\n",
       "      <td>2</td>\n",
       "      <td>9.0</td>\n",
       "      <td>14</td>\n",
       "    </tr>\n",
       "    <tr>\n",
       "      <th>4</th>\n",
       "      <td>4bd78d2a88559521c7e387a7</td>\n",
       "      <td>Tanta</td>\n",
       "      <td>-12.096798</td>\n",
       "      <td>-77.035334</td>\n",
       "      <td>Peruvian</td>\n",
       "      <td>San Isidro</td>\n",
       "      <td>2</td>\n",
       "      <td>8.4</td>\n",
       "      <td>422</td>\n",
       "    </tr>\n",
       "  </tbody>\n",
       "</table>\n",
       "</div>"
      ],
      "text/plain": [
       "                         id                      Venue  Venue Latitude  \\\n",
       "0  4cc2f8474fcfbfb763bbbd24                    Lima 27      -12.096252   \n",
       "1  56d88b07498effe63b0b746e  Primos Chicken Lovers Bar      -12.098140   \n",
       "2  52fbaf6b498eb8a688516643            Astrid y Gastón      -12.096591   \n",
       "3  4f15ff95e5e8f419abbd0465                    Le Café      -12.097256   \n",
       "4  4bd78d2a88559521c7e387a7                      Tanta      -12.096798   \n",
       "\n",
       "   Venue Longitude Venue Category    Distrito  pricetier  rating  likes  \n",
       "0       -77.035084       Peruvian  San Isidro          2     8.7    359  \n",
       "1       -77.036146     Restaurant  San Isidro          2     8.6    140  \n",
       "2       -77.034695       Peruvian  San Isidro          3     8.6    526  \n",
       "3       -77.037704       Peruvian        Lima          2     9.0     14  \n",
       "4       -77.035334       Peruvian  San Isidro          2     8.4    422  "
      ]
     },
     "execution_count": 5,
     "metadata": {},
     "output_type": "execute_result"
    }
   ],
   "source": [
    "import pandas as pd\n",
    "pd.read_csv(\"prueba.csv\").head()"
   ]
  }
 ],
 "metadata": {
  "celltoolbar": "Edit Metadata",
  "kernelspec": {
   "display_name": "Python 3",
   "language": "python",
   "name": "python3"
  },
  "language_info": {
   "codemirror_mode": {
    "name": "ipython",
    "version": 3
   },
   "file_extension": ".py",
   "mimetype": "text/x-python",
   "name": "python",
   "nbconvert_exporter": "python",
   "pygments_lexer": "ipython3",
   "version": "3.7.5"
  }
 },
 "nbformat": 4,
 "nbformat_minor": 2
}
